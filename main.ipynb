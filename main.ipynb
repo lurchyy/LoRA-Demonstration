{
 "cells": [
  {
   "cell_type": "code",
   "execution_count": 1,
   "metadata": {},
   "outputs": [],
   "source": [
    "import torch \n",
    "import torchvision.datasets as dsets\n",
    "import torchvision.transforms as transforms\n",
    "import torch.nn as nn\n",
    "import tqdm\n",
    "_=torch.manual_seed(0)"
   ]
  },
  {
   "cell_type": "code",
   "execution_count": 2,
   "metadata": {},
   "outputs": [],
   "source": [
    "transform = transforms.Compose([transforms.ToTensor(), transforms.Normalize((0.1307,), (0.3081,))])\n",
    "mnist_train = dsets.MNIST(root='./data', train=True, transform=transform, download=True)\n",
    "train_loader = torch.utils.data.DataLoader(dataset=mnist_train, batch_size=10, shuffle=True)\n",
    "\n",
    "mnist_test = dsets.MNIST(root='./data', train=False, transform=transform, download=True)\n",
    "test_loader = torch.utils.data.DataLoader(dataset=mnist_test, batch_size=10, shuffle=False)\n",
    "\n",
    "device = torch.device('cuda:0' if torch.cuda.is_available() else 'cpu')"
   ]
  },
  {
   "cell_type": "code",
   "execution_count": 3,
   "metadata": {},
   "outputs": [],
   "source": [
    "class unoptimized_model(nn.Module):\n",
    "    def __init__(self, hidden_size_1 = 1000, hidden_size_2 = 2000):\n",
    "        super(unoptimized_model, self).__init__()\n",
    "        self.linear1 = nn.Linear(28*28, hidden_size_1)\n",
    "        self.linear2 = nn.Linear(hidden_size_1, hidden_size_2)\n",
    "        self.linear3 = nn.Linear(hidden_size_2, 10)\n",
    "        self.relu = nn.ReLU()\n",
    "        \n",
    "    def forward(self, img):\n",
    "        x = img.view(-1, 28*28)\n",
    "        x = self.relu(self.linear1(x))\n",
    "        x = self.relu(self.linear2(x))\n",
    "        x = self.linear3(x)\n",
    "        return x\n",
    "net = unoptimized_model().to(device)"
   ]
  },
  {
   "cell_type": "code",
   "execution_count": 4,
   "metadata": {},
   "outputs": [
    {
     "name": "stderr",
     "output_type": "stream",
     "text": [
      "Epoch 1:   0%|          | 0/6000 [00:00<?, ?it/s]"
     ]
    },
    {
     "name": "stderr",
     "output_type": "stream",
     "text": [
      "Epoch 1: 100%|██████████| 6000/6000 [00:48<00:00, 124.61it/s, loss=0.237]\n"
     ]
    }
   ],
   "source": [
    "def train(train_loader, net, epochs = 5, total_iterations_limit = None):\n",
    "    cross_el = nn.CrossEntropyLoss()\n",
    "    optimizer = torch.optim.Adam(net.parameters(), lr = 0.001)\n",
    "    total_iterations = 0\n",
    "    \n",
    "    for epoch in range(epochs):\n",
    "        net.train()\n",
    "    \n",
    "        loss_sum = 0\n",
    "        niters = 0\n",
    "        \n",
    "        data_iter = tqdm.tqdm(train_loader, desc=f'Epoch {epoch +1}')\n",
    "        if total_iterations_limit is not None:\n",
    "            data_iter.total = total_iterations_limit\n",
    "        \n",
    "        for data in data_iter:\n",
    "            niters += 1\n",
    "            total_iterations += 1\n",
    "            x, y = data\n",
    "            x = x.to(device)\n",
    "            y = y.to(device)\n",
    "            optimizer.zero_grad()\n",
    "            \n",
    "            output = net(x.view(-1, 28*28))\n",
    "            loss = cross_el(output, y)\n",
    "            loss_sum += loss.item()\n",
    "            avg_loss = loss_sum / niters\n",
    "            data_iter.set_postfix(loss = avg_loss)\n",
    "            loss.backward()\n",
    "            optimizer.step()\n",
    "            \n",
    "            if total_iterations_limit is not None and total_iterations >= total_iterations_limit:\n",
    "                return\n",
    "                   \n",
    "        \n",
    "        \n",
    "train(train_loader, net, epochs = 1)     "
   ]
  },
  {
   "cell_type": "code",
   "execution_count": 5,
   "metadata": {},
   "outputs": [],
   "source": [
    "ogweight = {}\n",
    "for name,param in net.named_parameters():\n",
    "    ogweight[name] = param.clone().detach()"
   ]
  },
  {
   "cell_type": "code",
   "execution_count": 6,
   "metadata": {},
   "outputs": [
    {
     "name": "stderr",
     "output_type": "stream",
     "text": [
      "Testing: 100%|██████████| 1000/1000 [00:05<00:00, 188.90it/s]"
     ]
    },
    {
     "name": "stdout",
     "output_type": "stream",
     "text": [
      "Accuracy: 0.959\n",
      "wrong counts for 0:11\n",
      "wrong counts for 1:11\n",
      "wrong counts for 2:21\n",
      "wrong counts for 3:76\n",
      "wrong counts for 4:25\n",
      "wrong counts for 5:46\n",
      "wrong counts for 6:31\n",
      "wrong counts for 7:33\n",
      "wrong counts for 8:24\n",
      "wrong counts for 9:137\n"
     ]
    },
    {
     "name": "stderr",
     "output_type": "stream",
     "text": [
      "\n"
     ]
    }
   ],
   "source": [
    "def test():\n",
    "    cor = 0\n",
    "    ttl = 0\n",
    "    \n",
    "    wrong_counts = [0 for i in range(10)]\n",
    "    \n",
    "    with torch.no_grad():\n",
    "        for data in tqdm.tqdm(test_loader, desc = 'Testing'):\n",
    "            x, y = data\n",
    "            x = x.to(device)\n",
    "            y = y.to(device)\n",
    "            output = net(x.view(-1, 784))\n",
    "            for idx, i in enumerate(output):\n",
    "                if torch.argmax(i) == y[idx]:\n",
    "                    cor += 1\n",
    "                else:\n",
    "                    wrong_counts[y[idx]] += 1\n",
    "                ttl += 1\n",
    "    print(f'Accuracy: {round(cor/ttl, 3)}')\n",
    "    for i in range(len(wrong_counts)):\n",
    "        print(f'wrong counts for {i}:{wrong_counts[i]}')\n",
    "test()"
   ]
  },
  {
   "cell_type": "code",
   "execution_count": 7,
   "metadata": {},
   "outputs": [
    {
     "name": "stdout",
     "output_type": "stream",
     "text": [
      "Layer 1 : torch.Size([1000, 784]) weights and torch.Size([1000]) biases\n",
      "Layer 2 : torch.Size([2000, 1000]) weights and torch.Size([2000]) biases\n",
      "Layer 3 : torch.Size([10, 2000]) weights and torch.Size([10]) biases\n",
      "Total params: 2,807,010\n"
     ]
    }
   ],
   "source": [
    "total_params_og = 0\n",
    "for idx,layer in enumerate([net.linear1, net.linear2, net.linear3]):\n",
    "    total_params_og += layer.weight.nelement() + layer.bias.nelement()\n",
    "    print(f'Layer {idx+1} : {layer.weight.shape} weights and {layer.bias.shape} biases')\n",
    "    \n",
    "print(f'Total params: {total_params_og:,}')"
   ]
  },
  {
   "cell_type": "code",
   "execution_count": 8,
   "metadata": {},
   "outputs": [],
   "source": [
    "\n",
    "class LoRaParam(nn.Module):\n",
    "    '''features_in : k\n",
    "       features_out : d\n",
    "       rank : r\n",
    "    '''\n",
    "    def __init__(self, features_in, features_out, rank = 1, alpha = 1, device = 'cpu'):\n",
    "        super().__init__()\n",
    "        self.lora_A = nn.Parameter(torch.zeros((rank, features_out)).to(device))\n",
    "        self.lora_B = nn.Parameter(torch.zeros((features_in, rank)).to(device))\n",
    "        \n",
    "        nn.init.normal_(self.lora_A, mean = 0, std = 1)\n",
    "        \n",
    "        \n",
    "        self.scale = alpha/rank\n",
    "        self.enabled = True\n",
    "        \n",
    "        \n",
    "    def forward(self, ogweights):\n",
    "        if self.enabled:\n",
    "            #   W+(B*A)*scale\n",
    "            return ogweights + torch.matmul(self.lora_B, self.lora_A).view(ogweights.shape)*self.scale\n",
    "        else:\n",
    "            return ogweights"
   ]
  },
  {
   "cell_type": "code",
   "execution_count": 9,
   "metadata": {},
   "outputs": [],
   "source": [
    "import torch.nn.utils.parametrize as parametrize\n",
    "\n",
    "def linear_layer_parameterization(layer, device, rank=1, lora_alpha=1):\n",
    "\n",
    "    \n",
    "    features_in, features_out = layer.weight.shape\n",
    "    return LoRaParam(\n",
    "        features_in, features_out, rank=rank, alpha=lora_alpha, device=device\n",
    "    )\n"
   ]
  },
  {
   "cell_type": "code",
   "execution_count": 10,
   "metadata": {},
   "outputs": [],
   "source": [
    "\n",
    "parametrize.register_parametrization(\n",
    "    net.linear1, \"weight\", linear_layer_parameterization(net.linear1, device)\n",
    ")\n",
    "parametrize.register_parametrization(\n",
    "    net.linear2, \"weight\", linear_layer_parameterization(net.linear2, device)\n",
    ")\n",
    "parametrize.register_parametrization(\n",
    "    net.linear3, \"weight\", linear_layer_parameterization(net.linear3, device)\n",
    ")\n",
    "\n",
    "\n",
    "def enable_disable_lora(enabled=True):\n",
    "    for layer in [net.linear1, net.linear2, net.linear3]:\n",
    "        layer.parametrizations[\"weight\"][0].enabled = enabled"
   ]
  },
  {
   "cell_type": "code",
   "execution_count": 11,
   "metadata": {},
   "outputs": [
    {
     "name": "stdout",
     "output_type": "stream",
     "text": [
      "Layer 1: W: torch.Size([1000, 784]) + B: torch.Size([1000]) + Lora_A: torch.Size([1, 784]) + Lora_B: torch.Size([1000, 1])\n",
      "Layer 2: W: torch.Size([2000, 1000]) + B: torch.Size([2000]) + Lora_A: torch.Size([1, 1000]) + Lora_B: torch.Size([2000, 1])\n",
      "Layer 3: W: torch.Size([10, 2000]) + B: torch.Size([10]) + Lora_A: torch.Size([1, 2000]) + Lora_B: torch.Size([10, 1])\n",
      "Total params og: 2,807,010\n",
      "Total params og+lora: 2,813,804\n",
      "Total params lora: 6,794\n",
      "Parameter increase: 0.242%\n"
     ]
    }
   ],
   "source": [
    "total_params_lora = 0\n",
    "total_params_nonlora = 0\n",
    "for idx,layer in enumerate([net.linear1, net.linear2, net.linear3]):\n",
    "    total_params_lora += layer.parametrizations[\"weight\"][0].lora_A.nelement() + layer.parametrizations[\"weight\"][0].lora_B.nelement()\n",
    "    total_params_nonlora += layer.weight.nelement() + layer.bias.nelement()\n",
    "    print(f'Layer {idx+1}: W: {layer.weight.shape} + B: {layer.bias.shape} + Lora_A: {layer.parametrizations[\"weight\"][0].lora_A.shape} + Lora_B: {layer.parametrizations[\"weight\"][0].lora_B.shape}'\n",
    ")\n",
    "    \n",
    "assert total_params_og == total_params_nonlora\n",
    "print(f'Total params og: {total_params_nonlora:,}')\n",
    "print(f'Total params og+lora: {total_params_nonlora+total_params_lora:,}')\n",
    "print(f'Total params lora: {total_params_lora:,}')\n",
    "param_incr = (total_params_lora/total_params_nonlora)*100\n",
    "print(f'Parameter increase: {param_incr:.3f}%')"
   ]
  },
  {
   "cell_type": "code",
   "execution_count": 12,
   "metadata": {},
   "outputs": [
    {
     "name": "stdout",
     "output_type": "stream",
     "text": [
      "Freezing  linear1.bias\n",
      "Freezing  linear1.parametrizations.weight.original\n",
      "Freezing  linear2.bias\n",
      "Freezing  linear2.parametrizations.weight.original\n",
      "Freezing  linear3.bias\n",
      "Freezing  linear3.parametrizations.weight.original\n"
     ]
    },
    {
     "name": "stderr",
     "output_type": "stream",
     "text": [
      "Epoch 1:  99%|█████████▉| 99/100 [00:01<00:00, 89.25it/s, loss=0.0601] \n"
     ]
    }
   ],
   "source": [
    "\n",
    "for name, param in net.named_parameters():\n",
    "    if 'lora' not in name:\n",
    "        print(f'Freezing  {name}')\n",
    "        param.requires_grad = False\n",
    "\n",
    "\n",
    "mnist_trainset = dsets.MNIST(root='./data', train=True, download=True, transform=transform)\n",
    "exclude_indices = mnist_trainset.targets == 9\n",
    "mnist_trainset.data = mnist_trainset.data[exclude_indices]\n",
    "mnist_trainset.targets = mnist_trainset.targets[exclude_indices]\n",
    "\n",
    "train_loader = torch.utils.data.DataLoader(mnist_trainset, batch_size=10, shuffle=True)\n",
    "\n",
    "\n",
    "train(train_loader, net, epochs=1, total_iterations_limit=100)"
   ]
  },
  {
   "cell_type": "code",
   "execution_count": 13,
   "metadata": {},
   "outputs": [],
   "source": [
    "# Check that the frozen parameters are still unchanged by the finetuning\n",
    "assert torch.all(net.linear1.parametrizations.weight.original == ogweight['linear1.weight'])\n",
    "assert torch.all(net.linear2.parametrizations.weight.original == ogweight['linear2.weight'])\n",
    "assert torch.all(net.linear3.parametrizations.weight.original == ogweight['linear3.weight'])\n"
   ]
  },
  {
   "cell_type": "code",
   "execution_count": null,
   "metadata": {},
   "outputs": [],
   "source": [
    "enable_disable_lora(enabled=True)\n",
    "assert torch.equal(net.linear1.weight, net.linear1.parametrizations.weight.original + (net.linear1.parametrizations.weight[0].lora_B @ net.linear1.parametrizations.weight[0].lora_A) * net.linear1.parametrizations.weight[0].scale)\n",
    "\n",
    "enable_disable_lora(enabled=False)\n",
    "# If we disable LoRA, the linear1.weight is the original one\n",
    "assert torch.equal(net.linear1.weight, ogweight['linear1.weight'])"
   ]
  },
  {
   "cell_type": "code",
   "execution_count": 14,
   "metadata": {},
   "outputs": [
    {
     "name": "stderr",
     "output_type": "stream",
     "text": [
      "Testing: 100%|██████████| 1000/1000 [00:06<00:00, 163.97it/s]"
     ]
    },
    {
     "name": "stdout",
     "output_type": "stream",
     "text": [
      "Accuracy: 0.902\n",
      "wrong counts for 0:13\n",
      "wrong counts for 1:17\n",
      "wrong counts for 2:27\n",
      "wrong counts for 3:218\n",
      "wrong counts for 4:162\n",
      "wrong counts for 5:83\n",
      "wrong counts for 6:29\n",
      "wrong counts for 7:290\n",
      "wrong counts for 8:130\n",
      "wrong counts for 9:10\n"
     ]
    },
    {
     "name": "stderr",
     "output_type": "stream",
     "text": [
      "\n"
     ]
    }
   ],
   "source": [
    "enable_disable_lora(enabled=True)\n",
    "test()"
   ]
  },
  {
   "cell_type": "code",
   "execution_count": 15,
   "metadata": {},
   "outputs": [
    {
     "name": "stderr",
     "output_type": "stream",
     "text": [
      "Testing: 100%|██████████| 1000/1000 [00:04<00:00, 203.40it/s]"
     ]
    },
    {
     "name": "stdout",
     "output_type": "stream",
     "text": [
      "Accuracy: 0.959\n",
      "wrong counts for 0:11\n",
      "wrong counts for 1:11\n",
      "wrong counts for 2:21\n",
      "wrong counts for 3:76\n",
      "wrong counts for 4:25\n",
      "wrong counts for 5:46\n",
      "wrong counts for 6:31\n",
      "wrong counts for 7:33\n",
      "wrong counts for 8:24\n",
      "wrong counts for 9:137\n"
     ]
    },
    {
     "name": "stderr",
     "output_type": "stream",
     "text": [
      "\n"
     ]
    }
   ],
   "source": [
    "enable_disable_lora(enabled=False)\n",
    "test()"
   ]
  }
 ],
 "metadata": {
  "kernelspec": {
   "display_name": "Python 3",
   "language": "python",
   "name": "python3"
  },
  "language_info": {
   "codemirror_mode": {
    "name": "ipython",
    "version": 3
   },
   "file_extension": ".py",
   "mimetype": "text/x-python",
   "name": "python",
   "nbconvert_exporter": "python",
   "pygments_lexer": "ipython3",
   "version": "3.10.0"
  }
 },
 "nbformat": 4,
 "nbformat_minor": 2
}
